{
 "cells": [
  {
   "cell_type": "code",
   "execution_count": 2,
   "metadata": {},
   "outputs": [],
   "source": [
    "class SubfieldsInAI():\n",
    "\n",
    "    def Subfields():\n",
    "        A = \"Sub-fields in AI are:\"\n",
    "        B = \"Machine Learning\"\n",
    "        C = \"Neural Networks\" \n",
    "        D = \"Vision\"\n",
    "        E = \"Robotics\"\n",
    "        F = \"Speech Processing\"\n",
    "        G = \"Natural Language Processing\"\n",
    "        print (\"\\n\",A,\"\\n\", B,\"\\n\",C,\"\\n\",D,\"\\n\",E,\"\\n\",F,\"\\n\",G)\n",
    "        S= (A,B,C,D,E,F,G)\n",
    "\n",
    "        return S"
   ]
  },
  {
   "cell_type": "code",
   "execution_count": 4,
   "metadata": {},
   "outputs": [
    {
     "name": "stdout",
     "output_type": "stream",
     "text": [
      "\n",
      " Sub-fields in AI are: \n",
      " Machine Learning \n",
      " Neural Networks \n",
      " Vision \n",
      " Robotics \n",
      " Speech Processing \n",
      " Natural Language Processing\n"
     ]
    },
    {
     "data": {
      "text/plain": [
       "('Sub-fields in AI are:',\n",
       " 'Machine Learning',\n",
       " 'Neural Networks',\n",
       " 'Vision',\n",
       " 'Robotics',\n",
       " 'Speech Processing',\n",
       " 'Natural Language Processing')"
      ]
     },
     "execution_count": 4,
     "metadata": {},
     "output_type": "execute_result"
    }
   ],
   "source": [
    "SubfieldsInAI.Subfields()"
   ]
  },
  {
   "cell_type": "code",
   "execution_count": 5,
   "metadata": {},
   "outputs": [],
   "source": [
    "class OddEven():\n",
    "\n",
    "    def OddEven():\n",
    "        Input = int(input(\"Enter a number:\"))\n",
    "\n",
    "        if (Input % 2 == 0):\n",
    "            print(Input,\"is Even number\")\n",
    "        else:\n",
    "            print(Input,\"is Odd number\")  \n",
    "\n",
    "        return Input"
   ]
  },
  {
   "cell_type": "code",
   "execution_count": 6,
   "metadata": {},
   "outputs": [
    {
     "name": "stdout",
     "output_type": "stream",
     "text": [
      "Enter a number:52452\n",
      "52452 is Even number\n"
     ]
    },
    {
     "data": {
      "text/plain": [
       "52452"
      ]
     },
     "execution_count": 6,
     "metadata": {},
     "output_type": "execute_result"
    }
   ],
   "source": [
    "OddEven.OddEven()"
   ]
  },
  {
   "cell_type": "code",
   "execution_count": 16,
   "metadata": {},
   "outputs": [
    {
     "name": "stdout",
     "output_type": "stream",
     "text": [
      "Your Gender:Male\n",
      "Your Age:20\n",
      "NOT ELIGIBLE\n"
     ]
    }
   ],
   "source": [
    "# creating logic \n",
    "\n",
    "Gender = input(\"Your Gender:\")\n",
    "Age = int(input(\"Your Age:\"))\n",
    "\n",
    "if ((Gender == \"Male\") and (Age == 21)):\n",
    "    print(\"ELIGIBLE\")\n",
    "\n",
    "else:\n",
    "     print(\"NOT ELIGIBLE\")\n"
   ]
  },
  {
   "cell_type": "code",
   "execution_count": 31,
   "metadata": {},
   "outputs": [],
   "source": [
    "class ElegiblityForMarriage():\n",
    "\n",
    "    def Elegible():\n",
    "        Gender = input(\"Your Gender:\")\n",
    "        Age = int(input(\"Your Age:\"))\n",
    "\n",
    "        if ((Gender == \"Male\") and (Age == 21)):\n",
    "            print(\"ELIGIBLE\")\n",
    "        elif ((Gender == \"Female\") and (Age == 18)):  # Included additional check \n",
    "             print(\"ELIGIBLE\")\n",
    "        else:\n",
    "             print(\"NOT ELIGIBLE\")\n",
    "        return Gender, Age\n"
   ]
  },
  {
   "cell_type": "code",
   "execution_count": 32,
   "metadata": {},
   "outputs": [
    {
     "name": "stdout",
     "output_type": "stream",
     "text": [
      "Your Gender:Male\n",
      "Your Age:20\n",
      "NOT ELIGIBLE\n"
     ]
    },
    {
     "data": {
      "text/plain": [
       "('Male', 20)"
      ]
     },
     "execution_count": 32,
     "metadata": {},
     "output_type": "execute_result"
    }
   ],
   "source": [
    "ElegiblityForMarriage.Elegible()"
   ]
  },
  {
   "cell_type": "code",
   "execution_count": 33,
   "metadata": {},
   "outputs": [
    {
     "name": "stdout",
     "output_type": "stream",
     "text": [
      "\n",
      " Subject1 = 98 \n",
      " Subject2 = 87 \n",
      " Subject3 = 95 \n",
      " Subject4 = 95 \n",
      " Subject5 = 93\n",
      " Total   : 468\n",
      " percentage 93.6\n"
     ]
    }
   ],
   "source": [
    "# Defining logic \n",
    "\n",
    "Subject1= 98\n",
    "Subject2= 87\n",
    "Subject3= 95\n",
    "Subject4= 95\n",
    "Subject5= 93\n",
    "\n",
    "print(\"\\n\",\"Subject1 =\",Subject1,\"\\n\",\"Subject2 =\",Subject2,\"\\n\",\"Subject3 =\", Subject3,\"\\n\",\"Subject4 =\", Subject4,\"\\n\",\"Subject5 =\",Subject5)\n",
    "\n",
    "Add = Subject1+Subject2+Subject3+Subject4+Subject5\n",
    "\n",
    "print(\" Total   :\",Add)\n",
    "\n",
    "percentage = round(Add/5,2)\n",
    "\n",
    "print(\" percentage\",percentage)"
   ]
  },
  {
   "cell_type": "code",
   "execution_count": 39,
   "metadata": {},
   "outputs": [],
   "source": [
    "class FindPercent():\n",
    "\n",
    "    def percentage():\n",
    "\n",
    "        Subject1= 98\n",
    "        Subject2= 87\n",
    "        Subject3= 95\n",
    "        Subject4= 95\n",
    "        Subject5= 93\n",
    "\n",
    "        print(\"\\n\",\"Subject1 =\",Subject1,\"\\n\",\"Subject2 =\",Subject2,\"\\n\",\"Subject3 =\", Subject3,\"\\n\",\"Subject4 =\", Subject4,\"\\n\",\"Subject5 =\",Subject5)\n",
    "\n",
    "        Add = Subject1+Subject2+Subject3+Subject4+Subject5\n",
    "\n",
    "        print(\" Total   :\",Add)\n",
    "\n",
    "        percentage = round(Add/5,2)\n",
    "\n",
    "        print(\" percentage\",percentage)"
   ]
  },
  {
   "cell_type": "code",
   "execution_count": 40,
   "metadata": {},
   "outputs": [
    {
     "name": "stdout",
     "output_type": "stream",
     "text": [
      "\n",
      " Subject1 = 98 \n",
      " Subject2 = 87 \n",
      " Subject3 = 95 \n",
      " Subject4 = 95 \n",
      " Subject5 = 93\n",
      " Total   : 468\n",
      " percentage 93.6\n"
     ]
    }
   ],
   "source": [
    "FindPercent.percentage()"
   ]
  },
  {
   "cell_type": "code",
   "execution_count": 41,
   "metadata": {},
   "outputs": [],
   "source": [
    "class triangle():\n",
    "\n",
    "    def triangle():\n",
    "        Height = int(input(\"Height :\"))\n",
    "        Breadth = int(input(\"Breadth :\"))\n",
    "\n",
    "        print(\"Area_formula = (Height*Breadth)/2\")\n",
    "        Area_formula = (Height*Breadth)/2\n",
    "        print(\"Area of Triangle: \",Area_formula)\n",
    "\n",
    "        Height1=int(input(\"Height1 :\"))\n",
    "        Height2= int(input(\"Height2 :\"))\n",
    "        Breadth= int(input(\"Breadth :\"))\n",
    "\n",
    "        Perimeter_formula = Height1+Height2+Breadth\n",
    "        print(\"Perimeter formula : Height1+Height2+Breadth\")\n",
    "        print(\"Area of Triangle: \", Perimeter_formula)\n",
    "\n",
    "\n",
    "        return Area_formula, Perimeter_formula"
   ]
  },
  {
   "cell_type": "code",
   "execution_count": 42,
   "metadata": {},
   "outputs": [
    {
     "name": "stdout",
     "output_type": "stream",
     "text": [
      "Height :32\n",
      "Breadth :34\n",
      "Area_formula = (Height*Breadth)/2\n",
      "Area of Triangle:  544.0\n",
      "Height1 :2\n",
      "Height2 :4\n",
      "Breadth :4\n",
      "Perimeter formula : Height1+Height2+Breadth\n",
      "Area of Triangle:  10\n"
     ]
    },
    {
     "data": {
      "text/plain": [
       "(544.0, 10)"
      ]
     },
     "execution_count": 42,
     "metadata": {},
     "output_type": "execute_result"
    }
   ],
   "source": [
    "triangle.triangle()"
   ]
  }
 ],
 "metadata": {
  "kernelspec": {
   "display_name": "Python 3",
   "language": "python",
   "name": "python3"
  },
  "language_info": {
   "codemirror_mode": {
    "name": "ipython",
    "version": 3
   },
   "file_extension": ".py",
   "mimetype": "text/x-python",
   "name": "python",
   "nbconvert_exporter": "python",
   "pygments_lexer": "ipython3",
   "version": "3.7.4"
  }
 },
 "nbformat": 4,
 "nbformat_minor": 2
}
