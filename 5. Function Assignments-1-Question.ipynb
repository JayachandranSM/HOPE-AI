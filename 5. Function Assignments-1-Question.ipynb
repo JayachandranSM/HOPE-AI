{
 "cells": [
  {
   "cell_type": "code",
   "execution_count": 23,
   "metadata": {},
   "outputs": [
    {
     "name": "stdout",
     "output_type": "stream",
     "text": [
      "\n",
      " Sub-fields in AI are: \n",
      " Machine Learning \n",
      " Neural Networks \n",
      " Vision \n",
      " Robotics \n",
      " Speech Processing \n",
      " Natural Language Processing\n"
     ]
    }
   ],
   "source": [
    "# Assign the given string and print to create store procedure\n",
    "\n",
    "A = \"Sub-fields in AI are:\"\n",
    "B = \"Machine Learning\"\n",
    "C = \"Neural Networks\" \n",
    "D = \"Vision\"\n",
    "E = \"Robotics\"\n",
    "F = \"Speech Processing\"\n",
    "G = \"Natural Language Processing\"\n",
    "\n",
    "print (\"\\n\",A,\"\\n\", B,\"\\n\",C,\"\\n\",D,\"\\n\",E,\"\\n\",F,\"\\n\",G)\n"
   ]
  },
  {
   "cell_type": "code",
   "execution_count": 80,
   "metadata": {},
   "outputs": [],
   "source": [
    "# Defining a function and insert the procedure explained above\n",
    "\n",
    "def Subfields():\n",
    "    A = \"Sub-fields in AI are:\"\n",
    "    B = \"Machine Learning\"\n",
    "    C = \"Neural Networks\" \n",
    "    D = \"Vision\"\n",
    "    E = \"Robotics\"\n",
    "    F = \"Speech Processing\"\n",
    "    G = \"Natural Language Processing\"\n",
    "    print (\"\\n\",A,\"\\n\", B,\"\\n\",C,\"\\n\",D,\"\\n\",E,\"\\n\",F,\"\\n\",G)\n",
    "    S= (A,B,C,D,E,F,G)\n",
    "    \n",
    "    return S\n",
    "    "
   ]
  },
  {
   "cell_type": "code",
   "execution_count": 81,
   "metadata": {},
   "outputs": [
    {
     "name": "stdout",
     "output_type": "stream",
     "text": [
      "\n",
      " Sub-fields in AI are: \n",
      " Machine Learning \n",
      " Neural Networks \n",
      " Vision \n",
      " Robotics \n",
      " Speech Processing \n",
      " Natural Language Processing\n"
     ]
    },
    {
     "data": {
      "text/plain": [
       "('Sub-fields in AI are:',\n",
       " 'Machine Learning',\n",
       " 'Neural Networks',\n",
       " 'Vision',\n",
       " 'Robotics',\n",
       " 'Speech Processing',\n",
       " 'Natural Language Processing')"
      ]
     },
     "execution_count": 81,
     "metadata": {},
     "output_type": "execute_result"
    }
   ],
   "source": [
    "Subfields()"
   ]
  },
  {
   "cell_type": "code",
   "execution_count": 84,
   "metadata": {},
   "outputs": [
    {
     "name": "stdout",
     "output_type": "stream",
     "text": [
      "\n",
      " Sub-fields in AI are: \n",
      " Machine Learning \n",
      " Neural Networks \n",
      " Vision \n",
      " Robotics \n",
      " Speech Processing \n",
      " Natural Language Processing\n"
     ]
    }
   ],
   "source": [
    "# Assigning to a variable \n",
    "\n",
    "Subfield=Subfields()"
   ]
  },
  {
   "cell_type": "code",
   "execution_count": 37,
   "metadata": {},
   "outputs": [
    {
     "name": "stdout",
     "output_type": "stream",
     "text": [
      "Enter a number:4\n",
      "4 is Even number\n"
     ]
    }
   ],
   "source": [
    "# Created a store procedure to find the given # is odd or even\n",
    "\n",
    "Input = int(input(\"Enter a number:\"))\n",
    "            \n",
    "if (Input % 2 == 0):\n",
    "    print(Input,\"is Even number\")\n",
    "else:\n",
    "    print(Input,\"is Odd number\")  "
   ]
  },
  {
   "cell_type": "code",
   "execution_count": 86,
   "metadata": {},
   "outputs": [
    {
     "name": "stdout",
     "output_type": "stream",
     "text": [
      "Enter a number:4\n",
      "4 is Even number\n"
     ]
    },
    {
     "data": {
      "text/plain": [
       "4"
      ]
     },
     "execution_count": 86,
     "metadata": {},
     "output_type": "execute_result"
    }
   ],
   "source": [
    "# Define a function to bring the above logic\n",
    "\n",
    "def OddEven():\n",
    "    Input = int(input(\"Enter a number:\"))\n",
    "\n",
    "    if (Input % 2 == 0):\n",
    "        print(Input,\"is Even number\")\n",
    "    else:\n",
    "        print(Input,\"is Odd number\")  \n",
    "        \n",
    "    return Input\n",
    "\n",
    "OddEven()"
   ]
  },
  {
   "cell_type": "code",
   "execution_count": 87,
   "metadata": {},
   "outputs": [
    {
     "name": "stdout",
     "output_type": "stream",
     "text": [
      "Enter a number:4\n",
      "4 is Even number\n"
     ]
    }
   ],
   "source": [
    "# Assigning to a variable \n",
    "Num = OddEven()"
   ]
  },
  {
   "cell_type": "code",
   "execution_count": 109,
   "metadata": {},
   "outputs": [
    {
     "name": "stdout",
     "output_type": "stream",
     "text": [
      "Your Gender:Male\n",
      "Your Age:18\n",
      "NOT ELIGIBLE\n"
     ]
    },
    {
     "data": {
      "text/plain": [
       "('Male', 18)"
      ]
     },
     "execution_count": 109,
     "metadata": {},
     "output_type": "execute_result"
    }
   ],
   "source": [
    "# To def a function and print with if condition\n",
    "\n",
    "def Elegible():\n",
    "    Gender = input(\"Your Gender:\")\n",
    "    Age = int(input(\"Your Age:\"))\n",
    "    if (Age == 18):\n",
    "        print(\"NOT ELIGIBLE\")\n",
    "        \n",
    "    return Gender, Age\n",
    "        \n",
    "Elegible()"
   ]
  },
  {
   "cell_type": "code",
   "execution_count": 111,
   "metadata": {},
   "outputs": [
    {
     "name": "stdout",
     "output_type": "stream",
     "text": [
      "Your Gender:Male\n",
      "Your Age:18\n",
      "NOT ELIGIBLE\n"
     ]
    }
   ],
   "source": [
    "D = Elegible()"
   ]
  },
  {
   "cell_type": "code",
   "execution_count": 184,
   "metadata": {},
   "outputs": [
    {
     "name": "stdout",
     "output_type": "stream",
     "text": [
      "\n",
      " Subject1 = 23 \n",
      " Subject2 = 45 \n",
      " Subject3 = 34 \n",
      " Subject4 = 23 \n",
      " Subject5 = 23\n",
      " Total   : 148\n",
      " percentage 29.6\n"
     ]
    }
   ],
   "source": [
    "Subject1= 23\n",
    "Subject2= 45\n",
    "Subject3= 34\n",
    "Subject4= 23\n",
    "Subject5= 23\n",
    "\n",
    "print(\"\\n\",\"Subject1 =\",Subject1,\"\\n\",\"Subject2 =\",Subject2,\"\\n\",\"Subject3 =\", Subject3,\"\\n\",\"Subject4 =\", Subject4,\"\\n\",\"Subject5 =\",Subject5)\n",
    "Add = Subject1+Subject2+Subject3+Subject4+Subject5\n",
    "print(\" Total   :\",Add)\n",
    "percentage = round(Add/5,2)\n",
    "print(\" percentage\",percentage)\n"
   ]
  },
  {
   "cell_type": "code",
   "execution_count": 185,
   "metadata": {},
   "outputs": [
    {
     "name": "stdout",
     "output_type": "stream",
     "text": [
      "\n",
      " Subject1 = 23 \n",
      " Subject2 = 45 \n",
      " Subject3 = 34 \n",
      " Subject4 = 23 \n",
      " Subject5 = 23\n",
      " Total   : 148\n",
      " percentage 29.6\n"
     ]
    },
    {
     "data": {
      "text/plain": [
       "(148, 29.6)"
      ]
     },
     "execution_count": 185,
     "metadata": {},
     "output_type": "execute_result"
    }
   ],
   "source": [
    "# define a function to do add and %\n",
    "\n",
    "def percentage():\n",
    "    Subject1= 23\n",
    "    Subject2= 45\n",
    "    Subject3= 34\n",
    "    Subject4= 23\n",
    "    Subject5= 23\n",
    "\n",
    "    print(\"\\n\",\"Subject1 =\",Subject1,\"\\n\",\"Subject2 =\",Subject2,\"\\n\",\"Subject3 =\", Subject3,\"\\n\",\"Subject4 =\", Subject4,\"\\n\",\"Subject5 =\",Subject5)\n",
    "    Add = Subject1+Subject2+Subject3+Subject4+Subject5\n",
    "    print(\" Total   :\",Add)\n",
    "    percentage = round(Add/5,2)\n",
    "    print(\" percentage\",percentage)\n",
    "    \n",
    "    return Add,percentage \n",
    "\n",
    "percentage()"
   ]
  },
  {
   "cell_type": "code",
   "execution_count": 186,
   "metadata": {},
   "outputs": [
    {
     "name": "stdout",
     "output_type": "stream",
     "text": [
      "\n",
      " Subject1 = 23 \n",
      " Subject2 = 45 \n",
      " Subject3 = 34 \n",
      " Subject4 = 23 \n",
      " Subject5 = 23\n",
      " Total   : 148\n",
      " percentage 29.6\n"
     ]
    }
   ],
   "source": [
    "# Assign to variable \n",
    "\n",
    "per=percentage()"
   ]
  },
  {
   "cell_type": "code",
   "execution_count": 199,
   "metadata": {},
   "outputs": [
    {
     "name": "stdout",
     "output_type": "stream",
     "text": [
      "Height : 3\n",
      "Breadth : 4\n",
      "Area formula : (Height*Breadth)/2\n",
      "Area of Triangle:  6.0\n",
      "Height1 : 3\n",
      "Height2 : 4\n",
      "Breadth: 45\n",
      "Perimeter formula : Height1+Height2+Breadth\n",
      "Perimeter of Triangle: 52\n"
     ]
    }
   ],
   "source": [
    "# Prepare the logic \n",
    "\n",
    "Height  = 3\n",
    "Breadth = 4\n",
    "\n",
    "print(\"Height :\",Height)\n",
    "print(\"Breadth :\",Breadth)\n",
    "Area_formula = (Height*Breadth)/2\n",
    "print(\"Area formula : (Height*Breadth)/2\")\n",
    "Area_of_Triangle =  6.0\n",
    "print(\"Area of Triangle: \", Area_of_Triangle)\n",
    "Height1=3\n",
    "Height2=4\n",
    "Breadth=45\n",
    "print(\"Height1 :\",Height1)\n",
    "print(\"Height2 :\",Height2)\n",
    "print(\"Breadth:\",Breadth)\n",
    "print(\"Perimeter formula : Height1+Height2+Breadth\")\n",
    "Perimeter_of_Triangle =  52\n",
    "    print(\"Perimeter of Triangle:\",Perimeter_of_Triangle)"
   ]
  },
  {
   "cell_type": "code",
   "execution_count": 7,
   "metadata": {},
   "outputs": [
    {
     "name": "stdout",
     "output_type": "stream",
     "text": [
      "Height :3\n",
      "Breadth :4\n",
      "Area_formula = (Height*Breadth)/2\n",
      "Area of Triangle:  6.0\n",
      "Height1 :3\n",
      "Height2 :4\n",
      "Breadth :45\n",
      "Perimeter formula : Height1+Height2+Breadth\n",
      "Perimeter of Triangle: 52\n"
     ]
    },
    {
     "data": {
      "text/plain": [
       "(3, 45, 3, 4)"
      ]
     },
     "execution_count": 7,
     "metadata": {},
     "output_type": "execute_result"
    }
   ],
   "source": [
    "def triangle():\n",
    "    Height = int(input(\"Height :\"))\n",
    "    Breadth = int(input(\"Breadth :\"))\n",
    "    \n",
    "    print(\"Area_formula = (Height*Breadth)/2\")\n",
    "    \n",
    "    Area_of_Triangle =  6.0\n",
    "    print(\"Area of Triangle: \", Area_of_Triangle)\n",
    "    \n",
    "    Height1=int(input(\"Height1 :\"))\n",
    "    Height2= int(input(\"Height2 :\"))\n",
    "    Breadth= int(input(\"Breadth :\"))\n",
    "\n",
    "\n",
    "    print(\"Perimeter formula : Height1+Height2+Breadth\")\n",
    "\n",
    "\n",
    "    Perimeter_of_Triangle =  52\n",
    "\n",
    "    print(\"Perimeter of Triangle:\",Perimeter_of_Triangle)\n",
    "    \n",
    "    return Height,Breadth,Height1,Height2\n",
    "\n",
    "triangle()"
   ]
  },
  {
   "cell_type": "code",
   "execution_count": 22,
   "metadata": {},
   "outputs": [],
   "source": [
    "# Please check if this is correct\n",
    "\n",
    "def triangle():\n",
    "    Height = int(input(\"Height :\"))\n",
    "    Breadth = int(input(\"Breadth :\"))\n",
    "    \n",
    "    print(\"Area_formula = (Height*Breadth)/2\")\n",
    "    Area_formula = (Height*Breadth)/2\n",
    "    print(\"Area of Triangle: \",Area_formula)\n",
    "    \n",
    "    Height1=int(input(\"Height1 :\"))\n",
    "    Height2= int(input(\"Height2 :\"))\n",
    "    Breadth= int(input(\"Breadth :\"))\n",
    "    \n",
    "    Perimeter_formula = Height1+Height2+Breadth\n",
    "    print(\"Perimeter formula : Height1+Height2+Breadth\")\n",
    "    print(\"Area of Triangle: \", Perimeter_formula)\n",
    "    \n",
    "    \n",
    "    return Area_formula, Perimeter_formula "
   ]
  },
  {
   "cell_type": "code",
   "execution_count": 23,
   "metadata": {},
   "outputs": [
    {
     "name": "stdout",
     "output_type": "stream",
     "text": [
      "Height :3\n",
      "Breadth :4\n",
      "Area_formula = (Height*Breadth)/2\n",
      "Area of Triangle:  6.0\n",
      "Height1 :3\n",
      "Height2 :4\n",
      "Breadth :45\n",
      "Perimeter formula : Height1+Height2+Breadth\n",
      "Area of Triangle:  52\n"
     ]
    },
    {
     "data": {
      "text/plain": [
       "(6.0, 52)"
      ]
     },
     "execution_count": 23,
     "metadata": {},
     "output_type": "execute_result"
    }
   ],
   "source": [
    "triangle()"
   ]
  },
  {
   "cell_type": "code",
   "execution_count": 25,
   "metadata": {},
   "outputs": [
    {
     "name": "stdout",
     "output_type": "stream",
     "text": [
      "Height :3\n",
      "Breadth :4\n",
      "Area_formula = (Height*Breadth)/2\n",
      "Area of Triangle:  6.0\n",
      "Height1 :3\n",
      "Height2 :4\n",
      "Breadth :45\n",
      "Perimeter formula : Height1+Height2+Breadth\n",
      "Area of Triangle:  52\n"
     ]
    }
   ],
   "source": [
    "d=triangle()"
   ]
  }
 ],
 "metadata": {
  "kernelspec": {
   "display_name": "Python 3",
   "language": "python",
   "name": "python3"
  },
  "language_info": {
   "codemirror_mode": {
    "name": "ipython",
    "version": 3
   },
   "file_extension": ".py",
   "mimetype": "text/x-python",
   "name": "python",
   "nbconvert_exporter": "python",
   "pygments_lexer": "ipython3",
   "version": "3.7.4"
  }
 },
 "nbformat": 4,
 "nbformat_minor": 2
}
