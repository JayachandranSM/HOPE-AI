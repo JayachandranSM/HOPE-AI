{
 "cells": [
  {
   "cell_type": "code",
   "execution_count": 1,
   "metadata": {},
   "outputs": [
    {
     "name": "stdout",
     "output_type": "stream",
     "text": [
      "HOPE AI\n"
     ]
    }
   ],
   "source": [
    "#print HOPE AI\n",
    "\n",
    "print(\"HOPE AI\")"
   ]
  },
  {
   "cell_type": "code",
   "execution_count": 2,
   "metadata": {},
   "outputs": [
    {
     "name": "stdout",
     "output_type": "stream",
     "text": [
      "Enter your institute name? :HOPE AI\n"
     ]
    }
   ],
   "source": [
    "#Get input from user\n",
    "\n",
    "Get_input = input(\"Enter your institute name? :\")"
   ]
  },
  {
   "cell_type": "code",
   "execution_count": 3,
   "metadata": {},
   "outputs": [
    {
     "name": "stdout",
     "output_type": "stream",
     "text": [
      "Enter your name:Raj\n",
      "Enter your age:15\n",
      "Enter your school name:Guru School\n",
      "Enter your drgree:B.E CSE\n",
      "\n",
      " Raj 15 Guru School B.E CSE\n"
     ]
    }
   ],
   "source": [
    "#Get input from user\n",
    "\n",
    "Name = input(\"Enter your name:\") \n",
    "Age = input(\"Enter your age:\")\n",
    "School = input (\"Enter your school name:\") \n",
    "Degree = input(\"Enter your drgree:\") \n",
    "\n",
    "# optionally print the received input\n",
    "print(\"\\n\", Name, Age, School, Degree)"
   ]
  },
  {
   "cell_type": "code",
   "execution_count": 4,
   "metadata": {},
   "outputs": [
    {
     "name": "stdout",
     "output_type": "stream",
     "text": [
      "a= 43\n",
      "b= 34\n",
      "add= 77\n"
     ]
    }
   ],
   "source": [
    "# Addition\n",
    "\n",
    "a = 43\n",
    "b = 34\n",
    "print(\"a=\",a)\n",
    "print(\"b=\",b)\n",
    "add = a+b\n",
    "print(\"add=\",add)"
   ]
  },
  {
   "cell_type": "code",
   "execution_count": 5,
   "metadata": {},
   "outputs": [
    {
     "name": "stdout",
     "output_type": "stream",
     "text": [
      "a= 43\n",
      "b= 34\n",
      "Sub= 9\n"
     ]
    }
   ],
   "source": [
    "# Subraction\n",
    "\n",
    "a = 43\n",
    "b = 34\n",
    "print(\"a=\",a)\n",
    "print(\"b=\",b)\n",
    "Sub = a-b\n",
    "print(\"Sub=\",Sub)"
   ]
  },
  {
   "cell_type": "code",
   "execution_count": 6,
   "metadata": {},
   "outputs": [
    {
     "name": "stdout",
     "output_type": "stream",
     "text": [
      "a= 63\n",
      "b= 97\n",
      "Mul= 6111\n"
     ]
    }
   ],
   "source": [
    "# Mutiplication \n",
    "a = 63\n",
    "b = 97\n",
    "print(\"a=\",a)\n",
    "print(\"b=\",b)\n",
    "Mul = a*b\n",
    "print(\"Mul=\",Mul)"
   ]
  },
  {
   "cell_type": "code",
   "execution_count": 7,
   "metadata": {},
   "outputs": [
    {
     "name": "stdout",
     "output_type": "stream",
     "text": [
      "a= 76\n",
      "b= 31\n",
      "Float Div= 2\n"
     ]
    }
   ],
   "source": [
    "# Division\n",
    "\n",
    "a = 76\n",
    "b = 31\n",
    "print(\"a=\",a)\n",
    "print(\"b=\",b)\n",
    "Float_Div = a // b\n",
    "print(\"Float Div=\",Float_Div)"
   ]
  },
  {
   "cell_type": "code",
   "execution_count": 8,
   "metadata": {},
   "outputs": [
    {
     "name": "stdout",
     "output_type": "stream",
     "text": [
      "a= 76\n",
      "b= 31\n",
      "Modulo= 14\n"
     ]
    }
   ],
   "source": [
    "#Modulo\n",
    "\n",
    "a = 76\n",
    "b = 31\n",
    "print(\"a=\",a)\n",
    "print(\"b=\",b)\n",
    "Modulo = a % b\n",
    "print(\"Modulo=\",Modulo)"
   ]
  },
  {
   "cell_type": "code",
   "execution_count": 9,
   "metadata": {},
   "outputs": [
    {
     "name": "stdout",
     "output_type": "stream",
     "text": [
      "a= 4\n",
      "b= 4\n",
      "Power= 256\n"
     ]
    }
   ],
   "source": [
    "# Power\n",
    "\n",
    "a = 4\n",
    "b = 4\n",
    "print(\"a=\",a)\n",
    "print(\"b=\",b)\n",
    "Power = a ** b\n",
    "print(\"Power=\",Power)"
   ]
  }
 ],
 "metadata": {
  "kernelspec": {
   "display_name": "Python 3",
   "language": "python",
   "name": "python3"
  },
  "language_info": {
   "codemirror_mode": {
    "name": "ipython",
    "version": 3
   },
   "file_extension": ".py",
   "mimetype": "text/x-python",
   "name": "python",
   "nbconvert_exporter": "python",
   "pygments_lexer": "ipython3",
   "version": "3.7.4"
  }
 },
 "nbformat": 4,
 "nbformat_minor": 2
}
