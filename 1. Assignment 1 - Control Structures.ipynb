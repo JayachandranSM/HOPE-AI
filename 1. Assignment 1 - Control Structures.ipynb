{
 "cells": [
  {
   "cell_type": "code",
   "execution_count": 2,
   "metadata": {},
   "outputs": [
    {
     "name": "stdout",
     "output_type": "stream",
     "text": [
      "Welcome to Assignment-1\n"
     ]
    }
   ],
   "source": [
    "print(\"Welcome to Assignment-1\")"
   ]
  },
  {
   "cell_type": "code",
   "execution_count": 11,
   "metadata": {},
   "outputs": [
    {
     "name": "stdout",
     "output_type": "stream",
     "text": [
      "Num1= 10\n",
      "Num2= 30\n",
      "Add= 40\n"
     ]
    }
   ],
   "source": [
    "Num1 = 10\n",
    "Num2 = 30\n",
    "Add  = Num1 + Num2\n",
    "print(\"Num1=\",Num1)\n",
    "print(\"Num2=\",Num2)\n",
    "print(\"Add=\",Add)"
   ]
  },
  {
   "cell_type": "code",
   "execution_count": 2,
   "metadata": {},
   "outputs": [
    {
     "name": "stdout",
     "output_type": "stream",
     "text": [
      "Enter the BMI Index:34\n",
      "Very Overweight\n"
     ]
    }
   ],
   "source": [
    "# Have expalined two way to get the desired output\n",
    "# Option 1\n",
    "\n",
    "BMI = int(input(\"Enter the BMI Index:\"))\n",
    "\n",
    "if (BMI == 34):\n",
    "    print(\"Very Overweight\")"
   ]
  },
  {
   "cell_type": "code",
   "execution_count": 4,
   "metadata": {},
   "outputs": [
    {
     "name": "stdout",
     "output_type": "stream",
     "text": [
      "Enter the BMI Index:34\n",
      "Very Overweight\n"
     ]
    }
   ],
   "source": [
    "# Option 2\n",
    "\n",
    "BMI = int(input(\"Enter the BMI Index:\"))\n",
    "\n",
    "if (BMI < 18):\n",
    "    print(\"Under Weight\")\n",
    "    \n",
    "elif (BMI >= 18 and BMI < 25):\n",
    "    print(\"Healthy Weight\")\n",
    "    \n",
    "elif (BMI > 25 and BMI < 30):\n",
    "    print(\"Heavy Weight\")\n",
    "    \n",
    "elif (BMI > 30 and BMI < 35):\n",
    "    print(\"Very Overweight\")\n",
    "    \n",
    "else:\n",
    "    print(\"Obese\")"
   ]
  }
 ],
 "metadata": {
  "kernelspec": {
   "display_name": "Python 3",
   "language": "python",
   "name": "python3"
  },
  "language_info": {
   "codemirror_mode": {
    "name": "ipython",
    "version": 3
   },
   "file_extension": ".py",
   "mimetype": "text/x-python",
   "name": "python",
   "nbconvert_exporter": "python",
   "pygments_lexer": "ipython3",
   "version": "3.7.4"
  }
 },
 "nbformat": 4,
 "nbformat_minor": 2
}
